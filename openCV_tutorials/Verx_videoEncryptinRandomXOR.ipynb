{
 "cells": [
  {
   "cell_type": "code",
   "execution_count": 1,
   "metadata": {
    "collapsed": true
   },
   "outputs": [],
   "source": [
    "from opencv_alvin import *"
   ]
  },
  {
   "cell_type": "code",
   "execution_count": 2,
   "metadata": {},
   "outputs": [
    {
     "name": "stdout",
     "output_type": "stream",
     "text": [
      "(480, 848, 3)\n",
      "(480, 848, 3)\n",
      "(480, 848, 3)\n",
      "(480, 848, 3)\n"
     ]
    }
   ],
   "source": [
    "#size is according to the camera image imput size\n",
    "keys=[]\n",
    "for i in range(1,5):\n",
    "    keys.append(cv2.imread(str(i)+str('.jpg'))[:480,:848])\n",
    "    print(keys[i-1].shape)"
   ]
  },
  {
   "cell_type": "code",
   "execution_count": 3,
   "metadata": {
    "collapsed": true
   },
   "outputs": [],
   "source": [
    "cap = cv2.VideoCapture(0)\n",
    "\n",
    "if (cap.isOpened()== False): \n",
    "  print(\"Error opening video stream or file\")\n",
    "ret, frame = cap.read()\n",
    "im(frame)"
   ]
  },
  {
   "cell_type": "code",
   "execution_count": 6,
   "metadata": {
    "collapsed": true
   },
   "outputs": [],
   "source": [
    "e=cv2.bitwise_xor(ss,frame)\n",
    "e=cv2.bitwise_xor(e,keys[2])\n",
    "d=cv2.bitwise_xor(e,ss)\n",
    "d=cv2.bitwise_xor(d,keys[2])\n",
    "im(d)"
   ]
  },
  {
   "cell_type": "code",
   "execution_count": 23,
   "metadata": {
    "scrolled": true
   },
   "outputs": [
    {
     "data": {
      "text/plain": [
       "(480, 848, 3)"
      ]
     },
     "execution_count": 23,
     "metadata": {},
     "output_type": "execute_result"
    }
   ],
   "source": [
    "#count=0\n",
    "ss=cv2.imread(\"super_static.jpg\")\n",
    "\n",
    "\n",
    "def xory(image,frame_count):\n",
    "#     i=random.randint(0,image.shape[0]-1)\n",
    "#     j=random.randint(0,image.shape[1]-1)\n",
    "#     initial_tuple=image[i][j]\n",
    "    #masky=initial_tuple[0]%len(keys)\n",
    "    masky=frame_count%4\n",
    "    res=cv2.bitwise_xor(image,ss)\n",
    "    res=cv2.bitwise_xor(keys[masky],res)\n",
    "#     res[0][0]=initial_tuple\n",
    "    return res\n",
    "ss.shape\n",
    "\n",
    "\n",
    "def dxory(image,frame_c):\n",
    "    #image=cv2.flip(image,1)\n",
    "#     i=random.randint(0,image.shape[0]-1)\n",
    "#     j=random.randint(0,image.shape[1]-1)\n",
    "#     initial_tuple=image[0][0]\n",
    "#     masky=initial_tuple[0]%len(keys)\n",
    "    masky=frame_c%len(keys)\n",
    "    res=cv2.bitwise_xor(keys[masky],image)\n",
    "    res=cv2.bitwise_xor(image,ss)\n",
    "\n",
    "    return res\n",
    "ss.shape"
   ]
  },
  {
   "cell_type": "markdown",
   "metadata": {},
   "source": [
    "## Encryptor"
   ]
  },
  {
   "cell_type": "code",
   "execution_count": null,
   "metadata": {
    "collapsed": true
   },
   "outputs": [],
   "source": [
    "\n",
    "\n",
    "cap = cv2.VideoCapture(0)\n",
    "fourcc = cv2.VideoWriter_fourcc(*'MJPG')\n",
    "out = cv2.VideoWriter('output.avi', fourcc, 20.0, (848,480))\n",
    "if (cap.isOpened()== False): \n",
    "  print(\"Error opening video stream or file\")\n",
    "c=0\n",
    "while(cap.isOpened()):\n",
    "  # Capture frame-by-frame\n",
    "    ret, frame = cap.read()\n",
    "    if ret == True:\n",
    "        \n",
    "        c+=1\n",
    "        temp=xory(frame,c)\n",
    "        cv2.imshow('Frame',temp)\n",
    "        out.write(temp)\n",
    "        if cv2.waitKey(25) & 0xFF == ord('q'):\n",
    "            cv2.destroyAllWindows()\n",
    "            for i in range(5):\n",
    "                cv2.waitKey(1)\n",
    "            break;\n",
    "  # Break the loop\n",
    "    else: \n",
    "        break\n",
    " \n",
    "# When everything done, release the video capture object\n",
    "cap.release()\n",
    "out.release()\n",
    " \n",
    "print(c)\n",
    "# Closes all the frames\n"
   ]
  },
  {
   "cell_type": "markdown",
   "metadata": {},
   "source": [
    "# Decryptor"
   ]
  },
  {
   "cell_type": "code",
   "execution_count": 29,
   "metadata": {},
   "outputs": [
    {
     "name": "stdout",
     "output_type": "stream",
     "text": [
      "144\n"
     ]
    }
   ],
   "source": [
    "cap = cv2.VideoCapture('output.avi')\n",
    "fourcc = cv2.VideoWriter_fourcc(*'MJPG')\n",
    "out = cv2.VideoWriter('decrypt.avi', fourcc, 20.0, (848,480))\n",
    "if (cap.isOpened()== False): \n",
    "  print(\"Error opening video stream or file\")\n",
    "c=0\n",
    "while(cap.isOpened()):\n",
    "  # Capture frame-by-frame\n",
    "    ret, frame = cap.read()\n",
    "    if ret == True:\n",
    "        c+=1\n",
    "        temp=xory(frame,c)\n",
    "        cv2.imshow('Frame',temp)\n",
    "        out.write(temp)\n",
    "        if cv2.waitKey(25) & 0xFF == ord('q'):\n",
    "            cv2.destroyAllWindows()\n",
    "            for i in range(5):\n",
    "                cv2.waitKey(1)\n",
    "            break;\n",
    "  # Break the loop\n",
    "    else: \n",
    "        break\n",
    " \n",
    "# When everything done, release the video capture object\n",
    "cap.release()\n",
    "out.release()\n",
    "print(c)\n",
    " "
   ]
  },
  {
   "cell_type": "code",
   "execution_count": 33,
   "metadata": {},
   "outputs": [
    {
     "name": "stdout",
     "output_type": "stream",
     "text": [
      "187\n"
     ]
    }
   ],
   "source": [
    "cap = cv2.VideoCapture('output.avi')\n",
    "length=int(cap.get(cv2.CAP_PROP_FRAME_COUNT))\n",
    "print(length)"
   ]
  },
  {
   "cell_type": "code",
   "execution_count": null,
   "metadata": {
    "collapsed": true
   },
   "outputs": [],
   "source": []
  }
 ],
 "metadata": {
  "kernelspec": {
   "display_name": "Python 3",
   "language": "python",
   "name": "python3"
  },
  "language_info": {
   "codemirror_mode": {
    "name": "ipython",
    "version": 3
   },
   "file_extension": ".py",
   "mimetype": "text/x-python",
   "name": "python",
   "nbconvert_exporter": "python",
   "pygments_lexer": "ipython3",
   "version": "3.6.2"
  }
 },
 "nbformat": 4,
 "nbformat_minor": 2
}
