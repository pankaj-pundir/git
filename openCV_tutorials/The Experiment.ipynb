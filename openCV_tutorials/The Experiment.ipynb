{
 "cells": [
  {
   "cell_type": "code",
   "execution_count": 6,
   "metadata": {
    "collapsed": true
   },
   "outputs": [],
   "source": [
    "from opencv_alvin import *"
   ]
  },
  {
   "cell_type": "code",
   "execution_count": 7,
   "metadata": {
    "collapsed": true
   },
   "outputs": [],
   "source": [
    "def videoFunc(image):\n",
    "    #return cv2.cvtColor(image,cv2.COLOR_BGR2GRAY)\n",
    "    ret,thres=cv2.threshold(image,100,255,cv2.THRESH_BINARY)\n",
    "    return thres\n",
    "    #return cuber_effect(image)"
   ]
  },
  {
   "cell_type": "code",
   "execution_count": 10,
   "metadata": {},
   "outputs": [
    {
     "name": "stdout",
     "output_type": "stream",
     "text": [
      "Error opening video stream or file\n"
     ]
    }
   ],
   "source": [
    "cap = cv2.VideoCapture(0)\n",
    "# fourcc = cv2.VideoWriter_fourcc(*'MJPG')\n",
    "# out = cv2.VideoWriter('output.avi', fourcc, 20.0, (848,480))\n",
    "if (cap.isOpened()== False): \n",
    "  print(\"Error opening video stream or file\")\n",
    "c=0\n",
    "while(cap.isOpened()):\n",
    "  # Capture frame-by-frame\n",
    "    ret, frame = cap.read()\n",
    "    if ret == True:\n",
    "        temp=videoFunc(frame)\n",
    "        cv2.imshow('Frame',temp)\n",
    "        #out.write(temp)\n",
    "        if cv2.waitKey(25) & 0xFF == ord('q'):\n",
    "            cv2.destroyAllWindows()\n",
    "            for i in range(5):\n",
    "                cv2.waitKey(1)\n",
    "            break;\n",
    "  # Break the loop\n",
    "    else: \n",
    "        break\n",
    " \n",
    "# When everything done, release the video capture object\n",
    "cap.release()\n",
    "#out.release()\n",
    " "
   ]
  },
  {
   "cell_type": "code",
   "execution_count": null,
   "metadata": {
    "collapsed": true
   },
   "outputs": [],
   "source": []
  }
 ],
 "metadata": {
  "kernelspec": {
   "display_name": "Python 3",
   "language": "python",
   "name": "python3"
  },
  "language_info": {
   "codemirror_mode": {
    "name": "ipython",
    "version": 3
   },
   "file_extension": ".py",
   "mimetype": "text/x-python",
   "name": "python",
   "nbconvert_exporter": "python",
   "pygments_lexer": "ipython3",
   "version": "3.6.2"
  }
 },
 "nbformat": 4,
 "nbformat_minor": 2
}
