{
 "cells": [
  {
   "cell_type": "markdown",
   "metadata": {},
   "source": [
    "# Steganogaphy (Image code encryption)\n",
    "## -By pankaj pundir"
   ]
  },
  {
   "cell_type": "code",
   "execution_count": 1,
   "metadata": {},
   "outputs": [],
   "source": [
    "def im(image,name=\"image\"):\n",
    "    cv2.imshow(name,image)\n",
    "    cv2.waitKey(0)\n",
    "    cv2.destroyAllWindows()"
   ]
  },
  {
   "cell_type": "code",
   "execution_count": 2,
   "metadata": {},
   "outputs": [],
   "source": [
    "import cv2\n",
    "import matplotlib.pyplot as plt\n",
    "import numpy as np\n",
    "import os\n",
    "os.system(\"source activate root\")\n",
    "%matplotlib notebook\n",
    "img=cv2.imread(\"hibiscus.jpg\")\n",
    "\n",
    "im(img)"
   ]
  },
  {
   "cell_type": "code",
   "execution_count": 3,
   "metadata": {},
   "outputs": [
    {
     "name": "stdout",
     "output_type": "stream",
     "text": [
      "Enter the message to be encrypted on the imagehello rahul\n",
      "11\n",
      "[11  0  0]\n"
     ]
    }
   ],
   "source": [
    "## Basic Image encryptor\n",
    "s=input(\"Enter the message to be encrypted on the image\")\n",
    "l=len(s)\n",
    "print(l)\n",
    "if(l<=255):\n",
    "    img[0][0]=(l,0,0)\n",
    "for i in range(1,l+1):\n",
    "    img[i][0]=(ord(s[i-1]),100,100)\n",
    "im(img)\n",
    "print(img[0][0])\n",
    "    \n"
   ]
  },
  {
   "cell_type": "code",
   "execution_count": 4,
   "metadata": {},
   "outputs": [
    {
     "name": "stdout",
     "output_type": "stream",
     "text": [
      "11\n",
      "hello rahul\n"
     ]
    }
   ],
   "source": [
    "## Basic Image decryptor\n",
    "#s=input(\"Enter the message to be encrypted on the image\")\n",
    "image=img\n",
    "l=image[0][0][0]\n",
    "data=[]\n",
    "# if(l<=255):\n",
    "#     img[0][0]=(l,0,0)\n",
    "print(l)\n",
    "for i in range(1,l+1):\n",
    "    data.append(chr((image[i][0][0])))\n",
    "print(''.join(data))\n",
    "    "
   ]
  },
  {
   "cell_type": "code",
   "execution_count": 30,
   "metadata": {},
   "outputs": [],
   "source": [
    "\n",
    "face_classifier=cv2.CascadeClassifier('C:\\opencv\\opencv\\sources\\data\\haarcascades\\haarcascade_frontalface_alt.xml')\n",
    "# eye_classifier=cv2.CascadeClassifier('haarcascade_eye.xml')\n",
    "\n",
    "def face_eye_detection(img):\n",
    "    #img=cv2.imread('shrey_face.jpeg')\n",
    "    gray=cv2.cvtColor(img,cv2.COLOR_RGB2GRAY)\n",
    "    faces=face_classifier.detectMultiScale(gray,1.1,5)\n",
    "    if faces == ():\n",
    "        return img\n",
    "    else:\n",
    "        for (x,y,w,h) in faces:\n",
    "            cv2.rectangle(img,(x,y),(x+w,y+h),(255,0,0),4)\n",
    "#             cropped_image=gray[y:y+h,x:x+w]\n",
    "#             eyes=eye_classifier.detectMultiScale(cropped_image,1.1,10)\n",
    "\n",
    "#             if eyes == ():\n",
    "#                 return img\n",
    "#             else:\n",
    "#                 for (ex,ey,ew,eh) in eyes:\n",
    "#                     cv2.rectangle(img,(x+ex,y+ey),(x+ex+ew,y+ey+eh),(0,255,0),4)\n",
    "    return img"
   ]
  },
  {
   "cell_type": "code",
   "execution_count": 36,
   "metadata": {},
   "outputs": [],
   "source": [
    "cap = cv2.VideoCapture(0)\n",
    "# VideoCapture cap\n",
    "# cap.open(192.168.1.180/?action=stream?dummy=param.mjpg)\n",
    "fourcc = cv2.VideoWriter_fourcc(*'XVID')\n",
    "out = cv2.VideoWriter('output.avi',fourcc, 20.0, (640,480))\n",
    "\n",
    "\n",
    "\n",
    "\n",
    "if (cap.isOpened()== False): \n",
    "  print(\"Error opening video stream or file\")\n",
    " \n",
    "# Read until video is completed\n",
    "while(cap.isOpened()):\n",
    "  # Capture frame-by-frame\n",
    "  ret, frame = cap.read()\n",
    "  if ret == True:\n",
    " \n",
    "    # Display the resulting frame\n",
    "    cv2.imshow('Frame',face_eye_detection(frame))\n",
    " \n",
    "    # Press Q on keyboard to  exit\n",
    "    if cv2.waitKey(25) & 0xFF == ord('q'):\n",
    "      break\n",
    " \n",
    "  # Break the loop\n",
    "  else: \n",
    "    break\n",
    " \n",
    "# When everything done, release the video capture object\n",
    "cap.release()\n",
    " \n",
    "# Closes all the frames\n",
    "cv2.destroyAllWindows()"
   ]
  },
  {
   "cell_type": "code",
   "execution_count": null,
   "metadata": {},
   "outputs": [],
   "source": []
  }
 ],
 "metadata": {
  "kernelspec": {
   "display_name": "Python 3",
   "language": "python",
   "name": "python3"
  },
  "language_info": {
   "codemirror_mode": {
    "name": "ipython",
    "version": 3
   },
   "file_extension": ".py",
   "mimetype": "text/x-python",
   "name": "python",
   "nbconvert_exporter": "python",
   "pygments_lexer": "ipython3",
   "version": "3.6.4"
  }
 },
 "nbformat": 4,
 "nbformat_minor": 2
}
