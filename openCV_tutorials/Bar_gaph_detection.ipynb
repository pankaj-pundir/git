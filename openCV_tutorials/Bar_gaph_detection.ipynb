{
 "cells": [
  {
   "cell_type": "markdown",
   "metadata": {},
   "source": [
    "# Bar Graph Detection"
   ]
  },
  {
   "cell_type": "code",
   "execution_count": 1,
   "metadata": {},
   "outputs": [],
   "source": [
    "from opencv_alvin import *\n",
    "import pytesseract as pyt\n",
    "%matplotlib inline"
   ]
  },
  {
   "cell_type": "code",
   "execution_count": 167,
   "metadata": {},
   "outputs": [],
   "source": [
    "#import pytesseract as pyt\n",
    "def remove_text(img):\n",
    "    h=img.shape[0]\n",
    "    boxes=pyt.image_to_boxes(img)\n",
    "    for b in boxes.splitlines():\n",
    "        b = b.split(' ')\n",
    "        charLen_x=int((int(b[3])-int(b[1]))*0.5)\n",
    "        charLen_y=int((int(b[4])-int(b[2]))*0.5)\n",
    "        if charLen_x>img.shape[0]*0.3 or charLen_y>img.shape[1]*0.3:\n",
    "            continue\n",
    "        else:\n",
    "            img = cv2.rectangle(img, (int(b[1])-charLen_x,h - int(b[2])+charLen_y), (int(b[3])+charLen_x, h - int(b[4])-charLen_y), (255, 255, 255), -1)\n",
    "    im(img,\"after removing the text\")\n",
    "    return img\n",
    "\n",
    "def bar_graph_detector(img_org,IM):\n",
    "    img=cv2.GaussianBlur(img_org,(3,3),0)\n",
    "    im(img,\"gaussian blur\")\n",
    "    ''' img should be grayscale and enhanced without text'''\n",
    "    kernel=np.ones((5,5),np.uint8)\n",
    "    img=cv2.morphologyEx(img,cv2.MORPH_CROSS,kernel,iterations=2)\n",
    "    #img=cv2.dilate()\n",
    "    #im(img,\"before removing text\")\n",
    "    #img=remove_text(img)\n",
    "    im(img,\"after morphology\")\n",
    "    #cv2.equalizeHist(img,img)\n",
    "    #im(img,\"equalize hist\")\n",
    "    #img=cv2.bilateralFilter(img,9,75, 75)\n",
    "    #im(img,\"bilateral filter\")\n",
    "    v = np.median(img_org)\n",
    "    sigma=0.33\n",
    "    lower = int(max(0, (1.0 - sigma) * v))\n",
    "    upper = int(min(255, (1.0 + sigma) * v))\n",
    "    canny_edges = cv2.Canny(img, lower, upper)\n",
    "    #canny_edges=cv2.Canny(img,20,100)\n",
    "    im(canny_edges,'canny images')\n",
    "    ci,contour,hierarchy=cv2.findContours(canny_edges,cv2.RETR_EXTERNAL,cv2.CHAIN_APPROX_SIMPLE)\n",
    "    count=0\n",
    "    disp=IM\n",
    "    tot_len=len(contour)\n",
    "    if tot_len<2:\n",
    "        return (0,0,0)\n",
    "    for c in contour:\n",
    "\n",
    "#         accuracy=0.001*cv2.arcLength(c,True)\n",
    "        #approx=cv2.approxPolyDP(c,accuracy,True)\n",
    "        hull=cv2.convexHull(c)\n",
    "        approx=hull\n",
    "        if 4<=len(approx)<=7:\n",
    "            count+=1\n",
    "            disp=cv2.drawContours(disp,[c],0,(0,255,0),2)\n",
    "        else:\n",
    "            disp=cv2.drawContours(disp,[c],0,(0,0,255),2)\n",
    "            #print(len(approx))\n",
    "    #print(str(\"accuracy is : \")+str(count/tot_len)+str(\" \")+str(tot_len))\n",
    "    return (disp,count,tot_len)"
   ]
  },
  {
   "cell_type": "code",
   "execution_count": 173,
   "metadata": {
    "scrolled": true
   },
   "outputs": [],
   "source": [
    "IM=cv2.imread('bar_graph_png/10.png')\n",
    "IM_G=cv2.cvtColor(IM,cv2.COLOR_BGR2GRAY)\n",
    "im(IM)\n"
   ]
  },
  {
   "cell_type": "code",
   "execution_count": 68,
   "metadata": {},
   "outputs": [
    {
     "data": {
      "text/plain": [
       "''"
      ]
     },
     "execution_count": 68,
     "metadata": {},
     "output_type": "execute_result"
    }
   ],
   "source": [
    "string=pyt.image_to_string(IM)\n",
    "string"
   ]
  },
  {
   "cell_type": "code",
   "execution_count": 147,
   "metadata": {},
   "outputs": [],
   "source": [
    "def res_generator(IM,IM_G):\n",
    "    res_img,success,total=bar_graph_detector(IM_G,IM)\n",
    "    if total==0:\n",
    "        return (False,0)\n",
    "    else:\n",
    "        accuracy=success/total\n",
    "        im(res_img)\n",
    "        if success/total>=0.5:\n",
    "            print(\"its a bar graph \"+str(accuracy))\n",
    "            #return (True,accuracy)\n",
    "        else:\n",
    "            print(\"Not a bar graph \"+str(accuracy))\n",
    "            #return (False,accuracy)\n",
    "#im(res_img)\n"
   ]
  },
  {
   "cell_type": "code",
   "execution_count": 169,
   "metadata": {},
   "outputs": [
    {
     "ename": "error",
     "evalue": "OpenCV(3.4.1) /io/opencv/modules/imgproc/src/color.cpp:11147: error: (-215) scn == 3 || scn == 4 in function cvtColor\n",
     "output_type": "error",
     "traceback": [
      "\u001b[0;31m---------------------------------------------------------------------------\u001b[0m",
      "\u001b[0;31merror\u001b[0m                                     Traceback (most recent call last)",
      "\u001b[0;32m<ipython-input-169-017a1f754d50>\u001b[0m in \u001b[0;36m<module>\u001b[0;34m()\u001b[0m\n\u001b[1;32m      1\u001b[0m \u001b[0;34m\u001b[0m\u001b[0m\n\u001b[1;32m      2\u001b[0m \u001b[0mimg\u001b[0m \u001b[0;34m=\u001b[0m \u001b[0mcv2\u001b[0m\u001b[0;34m.\u001b[0m\u001b[0mimread\u001b[0m\u001b[0;34m(\u001b[0m\u001b[0;34m'line_chart/13.png'\u001b[0m\u001b[0;34m)\u001b[0m\u001b[0;34m\u001b[0m\u001b[0m\n\u001b[0;32m----> 3\u001b[0;31m \u001b[0mgray\u001b[0m \u001b[0;34m=\u001b[0m \u001b[0mcv2\u001b[0m\u001b[0;34m.\u001b[0m\u001b[0mcvtColor\u001b[0m\u001b[0;34m(\u001b[0m\u001b[0mimg\u001b[0m\u001b[0;34m,\u001b[0m\u001b[0mcv2\u001b[0m\u001b[0;34m.\u001b[0m\u001b[0mCOLOR_BGR2GRAY\u001b[0m\u001b[0;34m)\u001b[0m\u001b[0;34m\u001b[0m\u001b[0m\n\u001b[0m\u001b[1;32m      4\u001b[0m \u001b[0;34m\u001b[0m\u001b[0m\n\u001b[1;32m      5\u001b[0m \u001b[0mv\u001b[0m \u001b[0;34m=\u001b[0m \u001b[0mnp\u001b[0m\u001b[0;34m.\u001b[0m\u001b[0mmedian\u001b[0m\u001b[0;34m(\u001b[0m\u001b[0mgray\u001b[0m\u001b[0;34m)\u001b[0m\u001b[0;34m\u001b[0m\u001b[0m\n",
      "\u001b[0;31merror\u001b[0m: OpenCV(3.4.1) /io/opencv/modules/imgproc/src/color.cpp:11147: error: (-215) scn == 3 || scn == 4 in function cvtColor\n"
     ]
    }
   ],
   "source": [
    "\n",
    "img = cv2.imread('line_chart/1.png')\n",
    "gray = cv2.cvtColor(img,cv2.COLOR_BGR2GRAY)\n",
    "\n",
    "v = np.median(gray)\n",
    "sigma=0.80\n",
    "lower = int(max(0, (1.0 - sigma) * v))\n",
    "upper = int(min(255, (1.0 + sigma) * v))\n",
    "    \n",
    "    \n",
    "edges = cv2.Canny(gray,lower,upper,apertureSize = 3)\n",
    "im(edges)\n",
    "minLineLength = 2\n",
    "maxLineGap = 1\n",
    "lines = cv2.HoughLinesP(edges,1,np.pi/180,10,minLineLength,maxLineGap)\n",
    "for j in lines:\n",
    "    for x1,y1,x2,y2 in j:\n",
    "        cv2.line(img,(x1,y1),(x2,y2),(0,255,0),5)\n",
    "im(img,'houghlines5.jpg')\n",
    "len(lines)\n"
   ]
  },
  {
   "cell_type": "code",
   "execution_count": 174,
   "metadata": {},
   "outputs": [
    {
     "name": "stdout",
     "output_type": "stream",
     "text": [
      "its a bar graph 0.75\n"
     ]
    }
   ],
   "source": [
    "res_generator(IM,IM_G)"
   ]
  },
  {
   "cell_type": "markdown",
   "metadata": {
    "collapsed": true
   },
   "source": [
    "## loop for all images\n"
   ]
  },
  {
   "cell_type": "code",
   "execution_count": 4,
   "metadata": {},
   "outputs": [
    {
     "name": "stdout",
     "output_type": "stream",
     "text": [
      "bar_graph_png/1.png\n",
      "bar_graph_png/2.png\n",
      "bar_graph_png/3.png\n",
      "bar_graph_png/4.png\n",
      "bar_graph_png/5.png\n",
      "bar_graph_png/6.png\n",
      "bar_graph_png/7.png\n",
      "bar_graph_png/8.png\n",
      "bar_graph_png/9.png\n",
      "bar_graph_png/10.png\n",
      "bar_graph_png/11.png\n",
      "bar_graph_png/12.png\n",
      "bar_graph_png/13.png\n",
      "bar_graph_png/14.png\n",
      "bar_graph_png/15.png\n",
      "bar_graph_png/16.png\n",
      "bar_graph_png/17.png\n",
      "bar_graph_png/18.png\n",
      "bar_graph_png/19.png\n",
      "bar_graph_png/20.png\n"
     ]
    }
   ],
   "source": [
    "li=[]\n",
    "for i in range(1,21):\n",
    "    name_generated=\"bar_graph_png/\"+str(i)+\".png\"\n",
    "    print(name_generated)\n",
    "    main_image=cv2.imread(str(name_generated))\n",
    "    #im(main_image)\n",
    "    IM_G=cv2.cvtColor(main_image,cv2.COLOR_BGR2GRAY)\n",
    "    li.append(res_generator(main_image,IM_G))\n",
    "    \n"
   ]
  },
  {
   "cell_type": "code",
   "execution_count": 11,
   "metadata": {},
   "outputs": [
    {
     "name": "stdout",
     "output_type": "stream",
     "text": [
      "2(False, 0.3333333333333333)\n",
      "4(False, 0.5)\n",
      "10(False, 0.4)\n",
      "13(False, 0.40816326530612246)\n",
      "16(False, 0.3333333333333333)\n",
      "20(False, 0.42857142857142855)\n"
     ]
    }
   ],
   "source": [
    "for (number,i) in enumerate(li):\n",
    "    if i[0]==False:\n",
    "        print(str(number+1)+str(i))"
   ]
  },
  {
   "cell_type": "code",
   "execution_count": null,
   "metadata": {},
   "outputs": [],
   "source": []
  }
 ],
 "metadata": {
  "kernelspec": {
   "display_name": "Python 3",
   "language": "python",
   "name": "python3"
  },
  "language_info": {
   "codemirror_mode": {
    "name": "ipython",
    "version": 3
   },
   "file_extension": ".py",
   "mimetype": "text/x-python",
   "name": "python",
   "nbconvert_exporter": "python",
   "pygments_lexer": "ipython3",
   "version": "3.6.4"
  }
 },
 "nbformat": 4,
 "nbformat_minor": 2
}
