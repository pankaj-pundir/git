{
 "cells": [
  {
   "cell_type": "markdown",
   "metadata": {},
   "source": [
    "# Shape identifiaction\n",
    "## Mini project\n",
    ">various basic shapes are loaded in file"
   ]
  },
  {
   "cell_type": "code",
   "execution_count": 8,
   "metadata": {},
   "outputs": [],
   "source": [
    "def im(image,name=\"image\"):\n",
    "    cv2.imshow(name,image)\n",
    "    cv2.waitKey(0)\n",
    "    cv2.destroyAllWindows()"
   ]
  },
  {
   "cell_type": "code",
   "execution_count": 9,
   "metadata": {},
   "outputs": [],
   "source": [
    "import cv2\n",
    "import matplotlib.pyplot as plt\n",
    "import numpy as np\n",
    "%matplotlib inline\n",
    "shape=cv2.imread(\"shapes_5.jpg\")\n",
    "im(shape)"
   ]
  },
  {
   "cell_type": "code",
   "execution_count": 3,
   "metadata": {},
   "outputs": [],
   "source": [
    "def find_contours(shape):\n",
    "    temp_shape=cv2.cvtColor(shape,cv2.COLOR_BGR2GRAY)\n",
    "    can=cv2.Canny(temp_shape,30,200)\n",
    "    con_img,contours,hierarchy=cv2.findContours(can,cv2.RETR_EXTERNAL,cv2.CHAIN_APPROX_SIMPLE)\n",
    "    return contours\n",
    "    # cv2.drawContours(shape,contours,-1,(0,255,0),5)\n",
    "# plt.imshow(shape)\n"
   ]
  },
  {
   "cell_type": "code",
   "execution_count": 4,
   "metadata": {},
   "outputs": [],
   "source": [
    "def center_of_contour(x_c):\n",
    "    M=cv2.moments(x_c)\n",
    "    return (int(M['m10']/M['m00']),int(M['m01']/M['m00']))\n",
    "def x_cord_contour(x_c):\n",
    "    if cv2.contourArea(x_c) >9:\n",
    "        return center_of_contour(x_c)[0]"
   ]
  },
  {
   "cell_type": "code",
   "execution_count": 5,
   "metadata": {},
   "outputs": [],
   "source": [
    "def shape_id(shape,contour,name,color=(0,255,0),magnifier=0.2):\n",
    "        cv2.drawContours(shape,[c],0,color,-1)\n",
    "        cv2.putText(shape,name,center_of_contour(c),cv2.FONT_HERSHEY_COMPLEX,0.2,(255,255,255),1)\n"
   ]
  },
  {
   "cell_type": "code",
   "execution_count": 6,
   "metadata": {},
   "outputs": [],
   "source": [
    "contours=find_contours(shape)"
   ]
  },
  {
   "cell_type": "code",
   "execution_count": 10,
   "metadata": {},
   "outputs": [
    {
     "name": "stdout",
     "output_type": "stream",
     "text": [
      "10\n",
      "15\n",
      "3\n",
      "4\n",
      "4\n"
     ]
    }
   ],
   "source": [
    "for c in contours:\n",
    "    \n",
    "    accuracy=0.01*cv2.arcLength(c,True)\n",
    "    approx=cv2.approxPolyDP(c,accuracy,True)\n",
    "    if len(approx)==3:\n",
    "        shape_name=\"triangle\"\n",
    "        cv2.drawContours(shape,[c],0,(0,255,0),-1)\n",
    "        cv2.putText(shape,shape_name,center_of_contour(c),cv2.FONT_HERSHEY_COMPLEX,0.2,(255,255,255),1)\n",
    "    elif(len(approx)==4):\n",
    "        x,y,w,h=cv2.boundingRect(c)\n",
    "        if w==h:\n",
    "            shape_id(shape,c,'square',color=(255,0,0))\n",
    "        else:\n",
    "            shape_id(shape,c,'rectangle',color=(2,100,50))\n",
    "    elif(len(approx)==10):\n",
    "        shape_id(shape,c,'star',color=(2,25,70))\n",
    "    elif(len(approx)>20):\n",
    "        shape_id(shape,c,'circle',color=(25,255,0))\n",
    "    print(len(approx))\n",
    "im(shape)\n",
    "cv2.waitKey()\n",
    "cv2.destroyAllWindows()"
   ]
  },
  {
   "cell_type": "code",
   "execution_count": null,
   "metadata": {
    "collapsed": true
   },
   "outputs": [],
   "source": []
  }
 ],
 "metadata": {
  "kernelspec": {
   "display_name": "Python 3",
   "language": "python",
   "name": "python3"
  },
  "language_info": {
   "codemirror_mode": {
    "name": "ipython",
    "version": 3
   },
   "file_extension": ".py",
   "mimetype": "text/x-python",
   "name": "python",
   "nbconvert_exporter": "python",
   "pygments_lexer": "ipython3",
   "version": "3.6.4"
  }
 },
 "nbformat": 4,
 "nbformat_minor": 2
}
